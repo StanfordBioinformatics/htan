{
 "cells": [
  {
   "attachments": {},
   "cell_type": "markdown",
   "metadata": {},
   "source": [
    "Add path to htan files:\n",
    "1) On HTAN, go to HTAN all projects -> Tables tab and select Files and Folders\n",
    "2) Click on the wrench icon (Advanced query editor)\n",
    "3) Write a select command (SELECT * FROM syn20446927) to get all the data. The actual SynID should be displayed above the table. Make sure to include 'folder' type entries.\n",
    "4) Press Enter\n",
    "5) Next to the wrench icon, there is a download icon. Press it and select csv, with the boxes ticked. Select Next and then Download.\n",
    "6) A csv file with a name similar to Job-3183528413300609305292436119.csv will be in your downloads folder. Rename it to \"HTAN_input.csv\" and copy it in the folder where you are running your Python notebook script."
   ]
  },
  {
   "cell_type": "code",
   "execution_count": null,
   "metadata": {},
   "outputs": [],
   "source": [
    "# Author: Thomas Karathanos\n",
    "# Notebook tested using VSCode with Python 3.9\n",
    "\n",
    "import pandas as pd\n",
    "input_csv = \"HTAN_input.csv\"\n",
    "df_all = pd.read_csv(input_csv)\n",
    "df_all.sample(6)"
   ]
  },
  {
   "cell_type": "code",
   "execution_count": null,
   "metadata": {},
   "outputs": [],
   "source": [
    "# Create a dataframe with only the files, not the folders\n",
    "df = pd.DataFrame\n",
    "df = df_all[df_all.type =='file']"
   ]
  },
  {
   "cell_type": "code",
   "execution_count": null,
   "metadata": {},
   "outputs": [],
   "source": [
    "#Save paths in dictionary with ParentId as key\n",
    "lookup={}\n",
    "\n",
    "for parentID in df.parentId.unique():\n",
    "    path =''\n",
    "    curr = parentID\n",
    "    while True:\n",
    "        parent = df_all[df_all.id==curr]\n",
    "        if parent.empty:\n",
    "            # Code gets here in some cases, when ParentId is not present as an Id in csv\n",
    "            break\n",
    "        path = parent.name.values[0] + '/' + path\n",
    "        if parent.parentId.values[0] == parent.projectId.values[0]:\n",
    "            # Parent node is the root node\n",
    "            path = '/' + path\n",
    "            break\n",
    "        curr = parent.parentId.values[0]\n",
    "    lookup[parentID] = path"
   ]
  },
  {
   "cell_type": "code",
   "execution_count": null,
   "metadata": {},
   "outputs": [],
   "source": [
    "df.insert(3,\"path\",[lookup[row[1]] for row in df.parentId.iteritems()])\n",
    "df.sample(6)"
   ]
  },
  {
   "cell_type": "code",
   "execution_count": null,
   "metadata": {},
   "outputs": [],
   "source": [
    "df.to_csv(\"HTAN_table_with_paths.csv\")"
   ]
  }
 ],
 "metadata": {
  "kernelspec": {
   "display_name": "Python 3",
   "language": "python",
   "name": "python3"
  },
  "language_info": {
   "codemirror_mode": {
    "name": "ipython",
    "version": 3
   },
   "file_extension": ".py",
   "mimetype": "text/x-python",
   "name": "python",
   "nbconvert_exporter": "python",
   "pygments_lexer": "ipython3",
   "version": "3.9.16"
  },
  "orig_nbformat": 4
 },
 "nbformat": 4,
 "nbformat_minor": 2
}
